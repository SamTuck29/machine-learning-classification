{
  "nbformat": 4,
  "nbformat_minor": 0,
  "metadata": {
    "colab": {
      "provenance": [],
      "include_colab_link": true
    },
    "kernelspec": {
      "name": "python3",
      "display_name": "Python 3"
    },
    "language_info": {
      "name": "python"
    },
    "accelerator": "GPU",
    "gpuClass": "standard"
  },
  "cells": [
    {
      "cell_type": "markdown",
      "metadata": {
        "id": "view-in-github",
        "colab_type": "text"
      },
      "source": [
        "<a href=\"https://colab.research.google.com/github/DrakeCS167Fall22/cs167fall22project2-SamTuck29/blob/main/Project2.ipynb\" target=\"_parent\"><img src=\"https://colab.research.google.com/assets/colab-badge.svg\" alt=\"Open In Colab\"/></a>"
      ]
    },
    {
      "cell_type": "markdown",
      "source": [
        "# Project #2\n",
        "##Name: Samuel Tucker\n",
        "##Date: 12.14.22"
      ],
      "metadata": {
        "id": "rIepkBIuT_Pl"
      }
    },
    {
      "cell_type": "markdown",
      "source": [
        "# 1. Problem\n",
        "State the problem you are trying to solve with this machine learning experiment. Include a description of the data, where you got the data, and what you're trying to predict.."
      ],
      "metadata": {
        "id": "HbwKLNhzP8YO"
      }
    },
    {
      "cell_type": "markdown",
      "source": [
        "###Problem: Classify a shoe into the United States' top 10 shoe brands based on Lowest price, Highest price, Condition, and Availability.\n",
        "\n",
        "###Target - \"Brand\": Puma, Adidas, Nike, New Balance, Reebok, Skechers, Converse, Vans, Asics, Burberry\n",
        "\n",
        "\n",
        "###Features:\n",
        "###\"priceMin\": Min: 9.50, Median: 65, Mean: 82.56, Max: 2799.95\n",
        "###\"priceMax\": Min: 9.50, Median: 66.50, Mean: 86.15, Max: 2799.95\n",
        "###\"Condition\": NewBox: 3070, NewDefect: 24, NewNoBox: 295, NotSpecified: 829, Preowned: 51\n",
        "###\"IsOnSale\" (Availabiliy): TRUE: 1060, FALSE: 3209\n",
        "\n",
        "###Dataset was found on Kaggle [here](https://colab.research.google.com/drive/1R_fBvk0x2Q1dq86f5wMWgxkylUnhFLli?authuser=1#scrollTo=LwseoUsMmCz2&line=11&uniqifier=1)\n",
        "\n",
        "###Author: Datafiniti\n"
      ],
      "metadata": {
        "id": "LwseoUsMmCz2"
      }
    },
    {
      "cell_type": "markdown",
      "source": [
        "# 2. Data Preparation\n",
        "Explain your data preparation. What did you have to do to get your data in shape for your experiments? Why are you certain that you data is clean and prepared for use in your algorithms?"
      ],
      "metadata": {
        "id": "qR_foVOeQVL7"
      }
    },
    {
      "cell_type": "markdown",
      "source": [
        "The data was messy. I began by going through and finding what columns I wanted to actually keep. After that, I sifted through the \"Brands\" column and kept the brands that landed in the top 10 US shoe brands category. I proceeded to rename the values in this column so they were grouped together correctly. priceMin and priceMax were already clean which was great! Condition, on the other hand, was not. I had to group the values in the condition column into their appropriate groups. After that, I was pretty much done. I renamed the columns, dropped a couple outliers, then exported the clean dataset from R.\n",
        "\n",
        "In Python, I read in the clean dataset, double checked missing data, and created appropriate dummy variables. Next, I split the data into an 80/20 training/testing datasets and normalized it. I also created a dataframe to collect all of the accuracies from each model for comparison at the end."
      ],
      "metadata": {
        "id": "aMDJDnW_mOWu"
      }
    },
    {
      "cell_type": "code",
      "source": [
        "import pandas as pd\n",
        "from google.colab import drive\n",
        "drive.mount('/content/drive')"
      ],
      "metadata": {
        "colab": {
          "base_uri": "https://localhost:8080/"
        },
        "id": "8XPgGzEXodAD",
        "outputId": "98f89c01-7bbd-4df4-cd35-dc589838494d"
      },
      "execution_count": 3,
      "outputs": [
        {
          "output_type": "stream",
          "name": "stdout",
          "text": [
            "Drive already mounted at /content/drive; to attempt to forcibly remount, call drive.mount(\"/content/drive\", force_remount=True).\n"
          ]
        }
      ]
    },
    {
      "cell_type": "code",
      "source": [
        "# import libraries\n",
        "import sklearn\n",
        "import pandas\n",
        "from sklearn import tree\n",
        "from sklearn.tree import DecisionTreeRegressor\n",
        "from sklearn.ensemble import RandomForestClassifier\n",
        "from sklearn.linear_model import SGDClassifier\n",
        "from sklearn.model_selection import train_test_split\n",
        "from sklearn import metrics\n",
        "from sklearn import neighbors\n",
        "from sklearn.preprocessing import StandardScaler #added library for Normalizing\n",
        "import matplotlib.pyplot as plt #added to make cool plots\n",
        "%matplotlib inline"
      ],
      "metadata": {
        "id": "_6KfrruNmX7P"
      },
      "execution_count": 23,
      "outputs": []
    },
    {
      "cell_type": "code",
      "source": [
        "# load and prepare your data here\n",
        "shoe = pd.read_csv(\"/content/drive/MyDrive/CS167datasets/CLEAN_male_shoe_prices.csv\")\n",
        "shoe.head()"
      ],
      "metadata": {
        "id": "9dUdBChRmKxR",
        "colab": {
          "base_uri": "https://localhost:8080/",
          "height": 206
        },
        "outputId": "f05437f0-bcfd-4671-977d-fb26ffab90d9"
      },
      "execution_count": 5,
      "outputs": [
        {
          "output_type": "execute_result",
          "data": {
            "text/plain": [
              "    Brand  PriceMin  PriceMax     Condition  IsOnSale\n",
              "0    Puma     86.98     86.98  NotSpecified      True\n",
              "1    Puma    149.00    149.00        NewBox     False\n",
              "2  Adidas     14.99     14.99        NewBox     False\n",
              "3    Puma     56.99     56.99  NotSpecified      True\n",
              "4    Puma     51.99     51.99  NotSpecified      True"
            ],
            "text/html": [
              "\n",
              "  <div id=\"df-dc342bdb-5612-48af-994c-3a02bd9fb17e\">\n",
              "    <div class=\"colab-df-container\">\n",
              "      <div>\n",
              "<style scoped>\n",
              "    .dataframe tbody tr th:only-of-type {\n",
              "        vertical-align: middle;\n",
              "    }\n",
              "\n",
              "    .dataframe tbody tr th {\n",
              "        vertical-align: top;\n",
              "    }\n",
              "\n",
              "    .dataframe thead th {\n",
              "        text-align: right;\n",
              "    }\n",
              "</style>\n",
              "<table border=\"1\" class=\"dataframe\">\n",
              "  <thead>\n",
              "    <tr style=\"text-align: right;\">\n",
              "      <th></th>\n",
              "      <th>Brand</th>\n",
              "      <th>PriceMin</th>\n",
              "      <th>PriceMax</th>\n",
              "      <th>Condition</th>\n",
              "      <th>IsOnSale</th>\n",
              "    </tr>\n",
              "  </thead>\n",
              "  <tbody>\n",
              "    <tr>\n",
              "      <th>0</th>\n",
              "      <td>Puma</td>\n",
              "      <td>86.98</td>\n",
              "      <td>86.98</td>\n",
              "      <td>NotSpecified</td>\n",
              "      <td>True</td>\n",
              "    </tr>\n",
              "    <tr>\n",
              "      <th>1</th>\n",
              "      <td>Puma</td>\n",
              "      <td>149.00</td>\n",
              "      <td>149.00</td>\n",
              "      <td>NewBox</td>\n",
              "      <td>False</td>\n",
              "    </tr>\n",
              "    <tr>\n",
              "      <th>2</th>\n",
              "      <td>Adidas</td>\n",
              "      <td>14.99</td>\n",
              "      <td>14.99</td>\n",
              "      <td>NewBox</td>\n",
              "      <td>False</td>\n",
              "    </tr>\n",
              "    <tr>\n",
              "      <th>3</th>\n",
              "      <td>Puma</td>\n",
              "      <td>56.99</td>\n",
              "      <td>56.99</td>\n",
              "      <td>NotSpecified</td>\n",
              "      <td>True</td>\n",
              "    </tr>\n",
              "    <tr>\n",
              "      <th>4</th>\n",
              "      <td>Puma</td>\n",
              "      <td>51.99</td>\n",
              "      <td>51.99</td>\n",
              "      <td>NotSpecified</td>\n",
              "      <td>True</td>\n",
              "    </tr>\n",
              "  </tbody>\n",
              "</table>\n",
              "</div>\n",
              "      <button class=\"colab-df-convert\" onclick=\"convertToInteractive('df-dc342bdb-5612-48af-994c-3a02bd9fb17e')\"\n",
              "              title=\"Convert this dataframe to an interactive table.\"\n",
              "              style=\"display:none;\">\n",
              "        \n",
              "  <svg xmlns=\"http://www.w3.org/2000/svg\" height=\"24px\"viewBox=\"0 0 24 24\"\n",
              "       width=\"24px\">\n",
              "    <path d=\"M0 0h24v24H0V0z\" fill=\"none\"/>\n",
              "    <path d=\"M18.56 5.44l.94 2.06.94-2.06 2.06-.94-2.06-.94-.94-2.06-.94 2.06-2.06.94zm-11 1L8.5 8.5l.94-2.06 2.06-.94-2.06-.94L8.5 2.5l-.94 2.06-2.06.94zm10 10l.94 2.06.94-2.06 2.06-.94-2.06-.94-.94-2.06-.94 2.06-2.06.94z\"/><path d=\"M17.41 7.96l-1.37-1.37c-.4-.4-.92-.59-1.43-.59-.52 0-1.04.2-1.43.59L10.3 9.45l-7.72 7.72c-.78.78-.78 2.05 0 2.83L4 21.41c.39.39.9.59 1.41.59.51 0 1.02-.2 1.41-.59l7.78-7.78 2.81-2.81c.8-.78.8-2.07 0-2.86zM5.41 20L4 18.59l7.72-7.72 1.47 1.35L5.41 20z\"/>\n",
              "  </svg>\n",
              "      </button>\n",
              "      \n",
              "  <style>\n",
              "    .colab-df-container {\n",
              "      display:flex;\n",
              "      flex-wrap:wrap;\n",
              "      gap: 12px;\n",
              "    }\n",
              "\n",
              "    .colab-df-convert {\n",
              "      background-color: #E8F0FE;\n",
              "      border: none;\n",
              "      border-radius: 50%;\n",
              "      cursor: pointer;\n",
              "      display: none;\n",
              "      fill: #1967D2;\n",
              "      height: 32px;\n",
              "      padding: 0 0 0 0;\n",
              "      width: 32px;\n",
              "    }\n",
              "\n",
              "    .colab-df-convert:hover {\n",
              "      background-color: #E2EBFA;\n",
              "      box-shadow: 0px 1px 2px rgba(60, 64, 67, 0.3), 0px 1px 3px 1px rgba(60, 64, 67, 0.15);\n",
              "      fill: #174EA6;\n",
              "    }\n",
              "\n",
              "    [theme=dark] .colab-df-convert {\n",
              "      background-color: #3B4455;\n",
              "      fill: #D2E3FC;\n",
              "    }\n",
              "\n",
              "    [theme=dark] .colab-df-convert:hover {\n",
              "      background-color: #434B5C;\n",
              "      box-shadow: 0px 1px 3px 1px rgba(0, 0, 0, 0.15);\n",
              "      filter: drop-shadow(0px 1px 2px rgba(0, 0, 0, 0.3));\n",
              "      fill: #FFFFFF;\n",
              "    }\n",
              "  </style>\n",
              "\n",
              "      <script>\n",
              "        const buttonEl =\n",
              "          document.querySelector('#df-dc342bdb-5612-48af-994c-3a02bd9fb17e button.colab-df-convert');\n",
              "        buttonEl.style.display =\n",
              "          google.colab.kernel.accessAllowed ? 'block' : 'none';\n",
              "\n",
              "        async function convertToInteractive(key) {\n",
              "          const element = document.querySelector('#df-dc342bdb-5612-48af-994c-3a02bd9fb17e');\n",
              "          const dataTable =\n",
              "            await google.colab.kernel.invokeFunction('convertToInteractive',\n",
              "                                                     [key], {});\n",
              "          if (!dataTable) return;\n",
              "\n",
              "          const docLinkHtml = 'Like what you see? Visit the ' +\n",
              "            '<a target=\"_blank\" href=https://colab.research.google.com/notebooks/data_table.ipynb>data table notebook</a>'\n",
              "            + ' to learn more about interactive tables.';\n",
              "          element.innerHTML = '';\n",
              "          dataTable['output_type'] = 'display_data';\n",
              "          await google.colab.output.renderOutput(dataTable, element);\n",
              "          const docLink = document.createElement('div');\n",
              "          docLink.innerHTML = docLinkHtml;\n",
              "          element.appendChild(docLink);\n",
              "        }\n",
              "      </script>\n",
              "    </div>\n",
              "  </div>\n",
              "  "
            ]
          },
          "metadata": {},
          "execution_count": 5
        }
      ]
    },
    {
      "cell_type": "code",
      "source": [
        "#check if clean\n",
        "print(shoe.isna().any())\n",
        "# all False ----> Clean!"
      ],
      "metadata": {
        "colab": {
          "base_uri": "https://localhost:8080/"
        },
        "id": "nzTTasctpSjt",
        "outputId": "c1084e63-b980-4a0b-f752-b1a25ae75217"
      },
      "execution_count": 6,
      "outputs": [
        {
          "output_type": "stream",
          "name": "stdout",
          "text": [
            "Brand        False\n",
            "PriceMin     False\n",
            "PriceMax     False\n",
            "Condition    False\n",
            "IsOnSale     False\n",
            "dtype: bool\n"
          ]
        }
      ]
    },
    {
      "cell_type": "code",
      "source": [
        "category2 = ['Condition']\n",
        "# now to creating dummy variables for all my categorical variables EXCEPT brand\n",
        "# (after I developed my method I realized there's literally a function for it....)\n",
        "# I guess that's my loss for missing class... (copied from Proj 1)\n",
        "for col in category2:\n",
        "  for unique in shoe[col].unique():\n",
        "    shoe[col + \"_\" + unique] = 0\n",
        "    for i in range(len(shoe[col])):\n",
        "      if (shoe[col].iloc[i] == unique):\n",
        "        shoe[col + \"_\" + unique].iloc[i] = 1\n",
        "      else:\n",
        "        shoe[col + \"_\" + unique].iloc[i] = 0\n",
        "  shoe.drop(columns = col, inplace = True)\n",
        "\n",
        "print(shoe.head())\n",
        "#not great column naming... but idc. I gotta move."
      ],
      "metadata": {
        "colab": {
          "base_uri": "https://localhost:8080/"
        },
        "id": "VQWxe6c1ZR52",
        "outputId": "ae8da58c-6bf8-4284-a9c9-20d5451c90be"
      },
      "execution_count": 7,
      "outputs": [
        {
          "output_type": "stream",
          "name": "stderr",
          "text": [
            "/usr/local/lib/python3.8/dist-packages/pandas/core/indexing.py:1732: SettingWithCopyWarning: \n",
            "A value is trying to be set on a copy of a slice from a DataFrame\n",
            "\n",
            "See the caveats in the documentation: https://pandas.pydata.org/pandas-docs/stable/user_guide/indexing.html#returning-a-view-versus-a-copy\n",
            "  self._setitem_single_block(indexer, value, name)\n"
          ]
        },
        {
          "output_type": "stream",
          "name": "stdout",
          "text": [
            "    Brand  PriceMin  PriceMax  IsOnSale  Condition_NotSpecified  \\\n",
            "0    Puma     86.98     86.98      True                       1   \n",
            "1    Puma    149.00    149.00     False                       0   \n",
            "2  Adidas     14.99     14.99     False                       0   \n",
            "3    Puma     56.99     56.99      True                       1   \n",
            "4    Puma     51.99     51.99      True                       1   \n",
            "\n",
            "   Condition_NewBox  Condition_NewNoBox  Condition_Preowned  \\\n",
            "0                 0                   0                   0   \n",
            "1                 1                   0                   0   \n",
            "2                 1                   0                   0   \n",
            "3                 0                   0                   0   \n",
            "4                 0                   0                   0   \n",
            "\n",
            "   Condition_NewDefect  \n",
            "0                    0  \n",
            "1                    0  \n",
            "2                    0  \n",
            "3                    0  \n",
            "4                    0  \n"
          ]
        }
      ]
    },
    {
      "cell_type": "code",
      "source": [
        "# split the data\n",
        "target= 'Brand'\n",
        "predictors = shoe.columns.drop(target)\n",
        "train_data, test_data, train_sln, test_sln = \\\n",
        "    train_test_split(shoe[predictors], shoe[target], test_size = 0.2, random_state=41)\n",
        "\n",
        "#normalizing data\n",
        "scaler = StandardScaler()\n",
        "scaler.fit(train_data)\n",
        "train_data_normalized = scaler.transform(train_data)\n",
        "test_data_normalized = scaler.transform(test_data)\n",
        "\n",
        "#dataframe to collect accuracies\n",
        "total_acc = pd.DataFrame({'ML Algorithm':['KNN', 'W KNN', 'DT', 'RF', 'SGD'], 'Accuracy': [0,0,0,0,0]})\n",
        "print(total_acc)"
      ],
      "metadata": {
        "colab": {
          "base_uri": "https://localhost:8080/"
        },
        "id": "sas6qxmnmqZe",
        "outputId": "35ee0fd0-48ec-4e1b-f95c-6e3c2bb61c9e"
      },
      "execution_count": 60,
      "outputs": [
        {
          "output_type": "stream",
          "name": "stdout",
          "text": [
            "  ML Algorithm  Accuracy\n",
            "0          KNN         0\n",
            "1        W KNN         0\n",
            "2           DT         0\n",
            "3           RF         0\n",
            "4          SGD         0\n"
          ]
        }
      ]
    },
    {
      "cell_type": "markdown",
      "source": [
        "# 3. Research\n",
        "\n",
        "Put your code and your experiments here."
      ],
      "metadata": {
        "id": "Hc7HMmNPR10W"
      }
    },
    {
      "cell_type": "code",
      "source": [
        "# code goes here... don't forget to include graphs. Professor Urness loves graphs.\n",
        "shoe[\"Brand\"].unique()"
      ],
      "metadata": {
        "id": "XfaACsEOR4U5",
        "colab": {
          "base_uri": "https://localhost:8080/"
        },
        "outputId": "004c3bc4-d19e-4d11-c699-9e5cefe10e4a"
      },
      "execution_count": 9,
      "outputs": [
        {
          "output_type": "execute_result",
          "data": {
            "text/plain": [
              "array(['Puma', 'Adidas', 'Nike', 'NewBalance', 'Reebok', 'Skechers',\n",
              "       'Converse', 'Vans', 'Asics', 'Burberry'], dtype=object)"
            ]
          },
          "metadata": {},
          "execution_count": 9
        }
      ]
    },
    {
      "cell_type": "code",
      "source": [
        "# K Nearest Neighbors!!\n",
        "# for classification we would use the accuracy metric that gives the percentage\n",
        "# of how many rows of the test dataset you got correct\n",
        "\n",
        "#create basic KNN Classifier object\n",
        "neigh = neighbors.KNeighborsClassifier()\n",
        "\n",
        "#call fit (to train regression model)\n",
        "neigh.fit(train_data_normalized, train_sln)\n",
        "\n",
        "#call predict to generate predictions\n",
        "shoe_predictions = neigh.predict(test_data_normalized)\n",
        "\n",
        "#Baseline accuracy\n",
        "print(\"Accuracy:\", metrics.accuracy_score(test_sln, shoe_predictions))\n",
        "\n",
        "print(\"-------------------------------------------------------\")\n",
        "#print out a confusion matrix\n",
        "shoe_labels= ['Puma', 'Adidas', 'Nike', 'NewBalance', 'Reebok', 'Skechers', 'Converse', 'Vans', 'Asics', 'Burberry']\n",
        "conf_mat = metrics.confusion_matrix(test_sln, shoe_predictions, labels=shoe_labels)\n",
        "print(pandas.DataFrame(conf_mat, index = shoe_labels, columns = shoe_labels))\n",
        "\n",
        "\n",
        "kNN_acc = []\n",
        "k_val = []\n",
        "max_acc_idx = 0\n",
        "for k in range(1,31,1):\n",
        "\n",
        "  #create basic KNN classifer object\n",
        "  neigh = neighbors.KNeighborsClassifier(n_neighbors=k)\n",
        "\n",
        "  #call fit (to train regression model)\n",
        "  neigh.fit(train_data_normalized, train_sln)\n",
        "\n",
        "  #call predict to generate predictions\n",
        "  shoe_predictions = neigh.predict(test_data_normalized)\n",
        "\n",
        "  #append values to mse and r2\n",
        "  kNN_acc.append(metrics.accuracy_score(test_sln, shoe_predictions))\n",
        "  k_val.append(k)\n",
        "  if (metrics.accuracy_score(test_sln, shoe_predictions) > kNN_acc[max_acc_idx]):\n",
        "    max_acc_idx = k - 1\n",
        "\n",
        "\n",
        "#create cool graph\n",
        "plt.suptitle('US Shoe data k-NN experiment (Accuracy)',fontsize=16)\n",
        "plt.xlabel('K value')\n",
        "plt.ylabel('Accuracy')\n",
        "plt.plot(k_val,kNN_acc,'bo-',label='k-NN')\n",
        "plt.legend(loc='upper left', shadow=True)\n",
        "plt.axis([-1,31,0.35,0.5])\n",
        "plt.show()\n",
        "\n",
        "# When k = 21, Accuracy is at its max\n",
        "print(\" \")\n",
        "print(\"optimal accuracy (k = \",max_acc_idx + 1,\"): \", kNN_acc[max_acc_idx])\n",
        "\n",
        "#append Accuracy to overall dataframe\n",
        "total_acc[\"Accuracy\"].iloc[0] = round(kNN_acc[max_acc_idx], 4)"
      ],
      "metadata": {
        "colab": {
          "base_uri": "https://localhost:8080/",
          "height": 966
        },
        "id": "Yj86H_B3nVCC",
        "outputId": "edd18a7b-a929-41ce-d121-a91d3e66b004"
      },
      "execution_count": 62,
      "outputs": [
        {
          "output_type": "stream",
          "name": "stdout",
          "text": [
            "Accuracy: 0.4531615925058548\n",
            "-------------------------------------------------------\n",
            "            Puma  Adidas  Nike  NewBalance  Reebok  Skechers  Converse  Vans  \\\n",
            "Puma          46      10    45          22       2         0         1     8   \n",
            "Adidas         0      11    27           1       0         1         2     3   \n",
            "Nike          20      20   247          23       6         3         6    15   \n",
            "NewBalance    11       6    30          13       3         1         2     7   \n",
            "Reebok        10       2    29           6      15         0         4     2   \n",
            "Skechers       5       3    15           4       2         5         1     1   \n",
            "Converse       1       3    13           0       2         1         5     3   \n",
            "Vans           9       2    22           4       2         1         5    39   \n",
            "Asics          2       1    20           0       0         0         1     1   \n",
            "Burberry       0       0     0           0       0         0         0     0   \n",
            "\n",
            "            Asics  Burberry  \n",
            "Puma            1         1  \n",
            "Adidas          2         0  \n",
            "Nike            5         4  \n",
            "NewBalance      1         0  \n",
            "Reebok          0         0  \n",
            "Skechers        1         0  \n",
            "Converse        0         0  \n",
            "Vans            0         0  \n",
            "Asics           2         0  \n",
            "Burberry        0         4  \n"
          ]
        },
        {
          "output_type": "display_data",
          "data": {
            "text/plain": [
              "<Figure size 432x288 with 1 Axes>"
            ],
            "image/png": "[encoded data removed]"
          },
          "metadata": {
            "needs_background": "light"
          }
        },
        {
          "output_type": "stream",
          "name": "stdout",
          "text": [
            " \n",
            "optimal accuracy (k =  21 ):  0.47892271662763464\n"
          ]
        },
        {
          "output_type": "execute_result",
          "data": {
            "text/plain": [
              "  ML Algorithm  Accuracy\n",
              "0          KNN    0.4789\n",
              "1        W KNN    0.0000\n",
              "2           DT    0.0000\n",
              "3           RF    0.0000\n",
              "4          SGD    0.0000"
            ],
            "text/html": [
              "\n",
              "  <div id=\"df-93168aa3-0d71-4939-befe-5db4a0940114\">\n",
              "    <div class=\"colab-df-container\">\n",
              "      <div>\n",
              "<style scoped>\n",
              "    .dataframe tbody tr th:only-of-type {\n",
              "        vertical-align: middle;\n",
              "    }\n",
              "\n",
              "    .dataframe tbody tr th {\n",
              "        vertical-align: top;\n",
              "    }\n",
              "\n",
              "    .dataframe thead th {\n",
              "        text-align: right;\n",
              "    }\n",
              "</style>\n",
              "<table border=\"1\" class=\"dataframe\">\n",
              "  <thead>\n",
              "    <tr style=\"text-align: right;\">\n",
              "      <th></th>\n",
              "      <th>ML Algorithm</th>\n",
              "      <th>Accuracy</th>\n",
              "    </tr>\n",
              "  </thead>\n",
              "  <tbody>\n",
              "    <tr>\n",
              "      <th>0</th>\n",
              "      <td>KNN</td>\n",
              "      <td>0.4789</td>\n",
              "    </tr>\n",
              "    <tr>\n",
              "      <th>1</th>\n",
              "      <td>W KNN</td>\n",
              "      <td>0.0000</td>\n",
              "    </tr>\n",
              "    <tr>\n",
              "      <th>2</th>\n",
              "      <td>DT</td>\n",
              "      <td>0.0000</td>\n",
              "    </tr>\n",
              "    <tr>\n",
              "      <th>3</th>\n",
              "      <td>RF</td>\n",
              "      <td>0.0000</td>\n",
              "    </tr>\n",
              "    <tr>\n",
              "      <th>4</th>\n",
              "      <td>SGD</td>\n",
              "      <td>0.0000</td>\n",
              "    </tr>\n",
              "  </tbody>\n",
              "</table>\n",
              "</div>\n",
              "      <button class=\"colab-df-convert\" onclick=\"convertToInteractive('df-93168aa3-0d71-4939-befe-5db4a0940114')\"\n",
              "              title=\"Convert this dataframe to an interactive table.\"\n",
              "              style=\"display:none;\">\n",
              "        \n",
              "  <svg xmlns=\"http://www.w3.org/2000/svg\" height=\"24px\"viewBox=\"0 0 24 24\"\n",
              "       width=\"24px\">\n",
              "    <path d=\"M0 0h24v24H0V0z\" fill=\"none\"/>\n",
              "    <path d=\"M18.56 5.44l.94 2.06.94-2.06 2.06-.94-2.06-.94-.94-2.06-.94 2.06-2.06.94zm-11 1L8.5 8.5l.94-2.06 2.06-.94-2.06-.94L8.5 2.5l-.94 2.06-2.06.94zm10 10l.94 2.06.94-2.06 2.06-.94-2.06-.94-.94-2.06-.94 2.06-2.06.94z\"/><path d=\"M17.41 7.96l-1.37-1.37c-.4-.4-.92-.59-1.43-.59-.52 0-1.04.2-1.43.59L10.3 9.45l-7.72 7.72c-.78.78-.78 2.05 0 2.83L4 21.41c.39.39.9.59 1.41.59.51 0 1.02-.2 1.41-.59l7.78-7.78 2.81-2.81c.8-.78.8-2.07 0-2.86zM5.41 20L4 18.59l7.72-7.72 1.47 1.35L5.41 20z\"/>\n",
              "  </svg>\n",
              "      </button>\n",
              "      \n",
              "  <style>\n",
              "    .colab-df-container {\n",
              "      display:flex;\n",
              "      flex-wrap:wrap;\n",
              "      gap: 12px;\n",
              "    }\n",
              "\n",
              "    .colab-df-convert {\n",
              "      background-color: #E8F0FE;\n",
              "      border: none;\n",
              "      border-radius: 50%;\n",
              "      cursor: pointer;\n",
              "      display: none;\n",
              "      fill: #1967D2;\n",
              "      height: 32px;\n",
              "      padding: 0 0 0 0;\n",
              "      width: 32px;\n",
              "    }\n",
              "\n",
              "    .colab-df-convert:hover {\n",
              "      background-color: #E2EBFA;\n",
              "      box-shadow: 0px 1px 2px rgba(60, 64, 67, 0.3), 0px 1px 3px 1px rgba(60, 64, 67, 0.15);\n",
              "      fill: #174EA6;\n",
              "    }\n",
              "\n",
              "    [theme=dark] .colab-df-convert {\n",
              "      background-color: #3B4455;\n",
              "      fill: #D2E3FC;\n",
              "    }\n",
              "\n",
              "    [theme=dark] .colab-df-convert:hover {\n",
              "      background-color: #434B5C;\n",
              "      box-shadow: 0px 1px 3px 1px rgba(0, 0, 0, 0.15);\n",
              "      filter: drop-shadow(0px 1px 2px rgba(0, 0, 0, 0.3));\n",
              "      fill: #FFFFFF;\n",
              "    }\n",
              "  </style>\n",
              "\n",
              "      <script>\n",
              "        const buttonEl =\n",
              "          document.querySelector('#df-93168aa3-0d71-4939-befe-5db4a0940114 button.colab-df-convert');\n",
              "        buttonEl.style.display =\n",
              "          google.colab.kernel.accessAllowed ? 'block' : 'none';\n",
              "\n",
              "        async function convertToInteractive(key) {\n",
              "          const element = document.querySelector('#df-93168aa3-0d71-4939-befe-5db4a0940114');\n",
              "          const dataTable =\n",
              "            await google.colab.kernel.invokeFunction('convertToInteractive',\n",
              "                                                     [key], {});\n",
              "          if (!dataTable) return;\n",
              "\n",
              "          const docLinkHtml = 'Like what you see? Visit the ' +\n",
              "            '<a target=\"_blank\" href=https://colab.research.google.com/notebooks/data_table.ipynb>data table notebook</a>'\n",
              "            + ' to learn more about interactive tables.';\n",
              "          element.innerHTML = '';\n",
              "          dataTable['output_type'] = 'display_data';\n",
              "          await google.colab.output.renderOutput(dataTable, element);\n",
              "          const docLink = document.createElement('div');\n",
              "          docLink.innerHTML = docLinkHtml;\n",
              "          element.appendChild(docLink);\n",
              "        }\n",
              "      </script>\n",
              "    </div>\n",
              "  </div>\n",
              "  "
            ]
          },
          "metadata": {},
          "execution_count": 62
        }
      ]
    },
    {
      "cell_type": "code",
      "source": [
        "# Next, Weighted K Nearest Neighbors!!!\n",
        "\n",
        "# Now to run a base model using weighted k nearest neighbors.\n",
        "#create basic weighted KNN Classifier object\n",
        "neigh = neighbors.KNeighborsClassifier(weights = 'distance')\n",
        "\n",
        "#call fit (to train regression model)\n",
        "neigh.fit(train_data_normalized, train_sln)\n",
        "\n",
        "#call predict to generate predictions\n",
        "shoe_predictions = neigh.predict(test_data_normalized)\n",
        "\n",
        "#Baseline accuracy\n",
        "print(\"Accuracy:\", metrics.accuracy_score(test_sln, shoe_predictions))\n",
        "\n",
        "print(\"-------------------------------------------------------\")\n",
        "#print out a confusion matrix\n",
        "shoe_labels= ['Puma', 'Adidas', 'Nike', 'NewBalance', 'Reebok', 'Skechers', 'Converse', 'Vans', 'Asics', 'Burberry']\n",
        "conf_mat = metrics.confusion_matrix(test_sln, shoe_predictions, labels=shoe_labels)\n",
        "print(pandas.DataFrame(conf_mat, index = shoe_labels, columns = shoe_labels))\n",
        "\n",
        "w_kNN_acc = []\n",
        "k_val = []\n",
        "max_acc_idx = 0\n",
        "for k in range(1,41,1):\n",
        "\n",
        "  #create basic weighted KNN classifer object\n",
        "  neigh = neighbors.KNeighborsClassifier(n_neighbors=k, weights='distance')\n",
        "\n",
        "  #call fit (to train regression model)\n",
        "  neigh.fit(train_data_normalized, train_sln)\n",
        "\n",
        "  #call predict to generate predictions\n",
        "  shoe_predictions = neigh.predict(test_data_normalized)\n",
        "\n",
        "  #append values to mse and r2\n",
        "  w_kNN_acc.append(metrics.accuracy_score(test_sln, shoe_predictions))\n",
        "  k_val.append(k)\n",
        "  if (metrics.accuracy_score(test_sln, shoe_predictions) > w_kNN_acc[max_acc_idx]):\n",
        "    max_acc_idx = k - 1\n",
        "\n",
        "\n",
        "#create cool graph\n",
        "plt.suptitle('US Shoe data weighted k-NN experiment (Accuracy)',fontsize=16)\n",
        "plt.xlabel('K value')\n",
        "plt.ylabel('Accuracy')\n",
        "plt.plot(k_val,w_kNN_acc,'bo-',label='k-NN')\n",
        "plt.legend(loc='upper left', shadow=True)\n",
        "plt.axis([-1,41,0.37,0.5])\n",
        "plt.show()\n",
        "\n",
        "# When k = 27, accuracy is optimized\n",
        "print(\" \")\n",
        "print(\"optimal accuracy (k = \",max_acc_idx + 1,\"): \", w_kNN_acc[max_acc_idx])\n",
        "\n",
        "#append Accuracy to overall dataframe\n",
        "total_acc[\"Accuracy\"].iloc[1] = round(w_kNN_acc[max_acc_idx], 4)"
      ],
      "metadata": {
        "colab": {
          "base_uri": "https://localhost:8080/",
          "height": 863
        },
        "id": "lR6BdWmrq95J",
        "outputId": "9768a2df-a623-4b65-d5de-845ffdb6ebb5"
      },
      "execution_count": 63,
      "outputs": [
        {
          "output_type": "stream",
          "name": "stdout",
          "text": [
            "Accuracy: 0.4484777517564403\n",
            "-------------------------------------------------------\n",
            "            Puma  Adidas  Nike  NewBalance  Reebok  Skechers  Converse  Vans  \\\n",
            "Puma          53      10    37          22       2         0         1     9   \n",
            "Adidas         1       9    25           1       2         0         3     3   \n",
            "Nike          23      33   229          20       6         4         5    14   \n",
            "NewBalance    12       4    26          15       3         0         1     9   \n",
            "Reebok        10       1    23           4      19         1         5     3   \n",
            "Skechers       7       2    12           4       0         7         0     2   \n",
            "Converse       1       3    11           0       3         0         6     4   \n",
            "Vans           9       3    21           1       1         2         6    40   \n",
            "Asics          4       1    18           0       0         0         1     1   \n",
            "Burberry       0       0     1           0       0         0         0     0   \n",
            "\n",
            "            Asics  Burberry  \n",
            "Puma            2         0  \n",
            "Adidas          2         1  \n",
            "Nike           12         3  \n",
            "NewBalance      4         0  \n",
            "Reebok          2         0  \n",
            "Skechers        3         0  \n",
            "Converse        0         0  \n",
            "Vans            1         0  \n",
            "Asics           2         0  \n",
            "Burberry        0         3  \n"
          ]
        },
        {
          "output_type": "display_data",
          "data": {
            "text/plain": [
              "<Figure size 432x288 with 1 Axes>"
            ],
            "image/png": "[encoded data removed]"
          },
          "metadata": {
            "needs_background": "light"
          }
        },
        {
          "output_type": "stream",
          "name": "stdout",
          "text": [
            " \n",
            "optimal accuracy (k =  27 ):  0.48009367681498827\n"
          ]
        },
        {
          "output_type": "stream",
          "name": "stderr",
          "text": [
            "/usr/local/lib/python3.8/dist-packages/pandas/core/indexing.py:1732: SettingWithCopyWarning: \n",
            "A value is trying to be set on a copy of a slice from a DataFrame\n",
            "\n",
            "See the caveats in the documentation: https://pandas.pydata.org/pandas-docs/stable/user_guide/indexing.html#returning-a-view-versus-a-copy\n",
            "  self._setitem_single_block(indexer, value, name)\n"
          ]
        }
      ]
    },
    {
      "cell_type": "code",
      "source": [
        "#Next, we'll do a Decision Tree Classification\n",
        "dt_acc = []\n",
        "sample_val = []\n",
        "max_acc_idx = 0\n",
        "for s in range(2,31,1):\n",
        "\n",
        "  #create basic dt classifier object\n",
        "  dt = tree.DecisionTreeClassifier(criterion = \"entropy\", max_depth = s, random_state=42)\n",
        "\n",
        "  #call fit (to train regression model)\n",
        "  dt.fit(train_data_normalized, train_sln)\n",
        "\n",
        "  #call predict to generate predictions\n",
        "  shoe_predictions = dt.predict(test_data_normalized)\n",
        "\n",
        "  #append values to accuracy and sample\n",
        "  dt_acc.append(metrics.accuracy_score(test_sln, shoe_predictions))\n",
        "  sample_val.append(s)\n",
        "  if (metrics.accuracy_score(test_sln, shoe_predictions) > dt_acc[max_acc_idx]):\n",
        "    max_acc_idx = s - 2\n",
        "\n",
        "\n",
        "#create cool graphs\n",
        "plt.suptitle('US Shoe data Decision Tree experiment (Accuracy)',fontsize=16)\n",
        "plt.xlabel('Sample Split Value')\n",
        "plt.ylabel('Accuracy')\n",
        "plt.plot(sample_val, dt_acc,'go-',label='k-NN')\n",
        "plt.legend(loc='lower right', shadow=True)\n",
        "plt.axis([0,31,0.42,0.46])\n",
        "plt.show()\n",
        "\n",
        "# When s = 11, accuracy is optimized\n",
        "print(\" \")\n",
        "print(\"optimal accuracy (s = \",max_acc_idx + 2,\"): \", dt_acc[max_acc_idx])\n",
        "\n",
        "#create optimal Decision Tree Classifier object\n",
        "dt = tree.DecisionTreeClassifier(criterion = \"entropy\", max_depth = max_acc_idx + 2, random_state=42)\n",
        "\n",
        "#call fit (to train regression model)\n",
        "dt.fit(train_data_normalized, train_sln)\n",
        "\n",
        "#call predict to generate predictions\n",
        "shoe_predictions = dt.predict(test_data_normalized)\n",
        "\n",
        "print(\" \")\n",
        "#print out a confusion matrix\n",
        "car_body_labels= ['Puma', 'Adidas', 'Nike', 'NewBalance', 'Reebok', 'Skechers', 'Converse', 'Vans', 'Asics', 'Burberry']\n",
        "conf_mat = metrics.confusion_matrix(test_sln, shoe_predictions, labels=car_body_labels)\n",
        "print(pandas.DataFrame(conf_mat, index = car_body_labels, columns = car_body_labels))\n",
        "\n",
        "#append Accuracy to overall dataframe\n",
        "total_acc[\"Accuracy\"].iloc[2] = round(dt_acc[max_acc_idx], 4)"
      ],
      "metadata": {
        "colab": {
          "base_uri": "https://localhost:8080/",
          "height": 846
        },
        "id": "9zbAwH6YuBMF",
        "outputId": "01a92d0d-8b8b-43cb-ff40-b0bcca7cc5a2"
      },
      "execution_count": 64,
      "outputs": [
        {
          "output_type": "display_data",
          "data": {
            "text/plain": [
              "<Figure size 432x288 with 1 Axes>"
            ],
            "image/png": "[encoded data removed]"
          },
          "metadata": {
            "needs_background": "light"
          }
        },
        {
          "output_type": "stream",
          "name": "stdout",
          "text": [
            " \n",
            "optimal accuracy (s =  11 ):  0.45901639344262296\n",
            " \n",
            "            Puma  Adidas  Nike  NewBalance  Reebok  Skechers  Converse  Vans  \\\n",
            "Puma          55       4    52          11       1         0         1    12   \n",
            "Adidas         2       5    33           1       2         0         0     3   \n",
            "Nike          23      22   269           5       4         1         1    14   \n",
            "NewBalance    18       2    36           9       0         0         0     7   \n",
            "Reebok         8       1    41           2       8         0         1     6   \n",
            "Skechers       7       1    18           5       0         4         0     2   \n",
            "Converse       2       1    19           0       1         0         1     4   \n",
            "Vans          11       1    31           1       1         0         1    37   \n",
            "Asics          5       0    19           0       0         0         1     1   \n",
            "Burberry       0       0     1           0       0         0         0     0   \n",
            "\n",
            "            Asics  Burberry  \n",
            "Puma            0         0  \n",
            "Adidas          0         1  \n",
            "Nike            7         3  \n",
            "NewBalance      2         0  \n",
            "Reebok          1         0  \n",
            "Skechers        0         0  \n",
            "Converse        0         0  \n",
            "Vans            1         0  \n",
            "Asics           1         0  \n",
            "Burberry        0         3  \n"
          ]
        },
        {
          "output_type": "stream",
          "name": "stderr",
          "text": [
            "/usr/local/lib/python3.8/dist-packages/pandas/core/indexing.py:1732: SettingWithCopyWarning: \n",
            "A value is trying to be set on a copy of a slice from a DataFrame\n",
            "\n",
            "See the caveats in the documentation: https://pandas.pydata.org/pandas-docs/stable/user_guide/indexing.html#returning-a-view-versus-a-copy\n",
            "  self._setitem_single_block(indexer, value, name)\n"
          ]
        }
      ]
    },
    {
      "cell_type": "code",
      "source": [
        "#Next, Random Forests...\n",
        "\n",
        "# create a baseline Random Forest Classifier\n",
        "forest = RandomForestClassifier(random_state = 0)\n",
        "\n",
        "#call fit (to train regression model)\n",
        "forest.fit(train_data_normalized,train_sln)\n",
        "\n",
        "#call predict to generate predictions\n",
        "shoe_predictions = forest.predict(test_data_normalized)\n",
        "\n",
        "#accuracy\n",
        "print(\"RANDOM FOREST accuracy score: \", metrics.accuracy_score(test_sln, shoe_predictions))\n",
        "\n",
        "vals = shoe[target].unique() ## possible classification values\n",
        "conf_mat = metrics.confusion_matrix(test_sln, shoe_predictions, labels=vals)\n",
        "print(pd.DataFrame(conf_mat, index = \"True \" + vals, columns = \"Predicted \" + vals))\n",
        "\n",
        "for_acc = []\n",
        "depth_val = []\n",
        "max_acc_idx = 0\n",
        "for d in range(2,31,1):\n",
        "\n",
        "  #create basic random forest classifier object\n",
        "  forest = RandomForestClassifier(random_state = 0, n_estimators = 500, criterion = \"entropy\", max_depth = d)\n",
        "\n",
        "  #call fit (to train regression model)\n",
        "  forest.fit(train_data_normalized, train_sln)\n",
        "\n",
        "  #call predict to generate predictions\n",
        "  shoe_predictions = forest.predict(test_data_normalized)\n",
        "\n",
        "  #append values to accuracy\n",
        "  for_acc.append(metrics.accuracy_score(test_sln, shoe_predictions))\n",
        "  depth_val.append(d)\n",
        "  if (metrics.accuracy_score(test_sln, shoe_predictions) > for_acc[max_acc_idx]):\n",
        "    max_acc_idx = d - 2\n",
        "\n",
        "\n",
        "#create cool graphs\n",
        "plt.suptitle('US Shoe data Random Forest experiment (Accuracy)',fontsize=16)\n",
        "plt.xlabel('Sample Split Value')\n",
        "plt.ylabel('Accuracy')\n",
        "plt.plot(depth_val, for_acc,'go-',label='k-NN')\n",
        "plt.legend(loc='lower right', shadow=True)\n",
        "plt.axis([0,31,0.4,0.47])\n",
        "plt.show()\n",
        "\n",
        "print(\" \")\n",
        "print(\"optimal accuracy (s = \",max_acc_idx + 2,\"): \", for_acc[max_acc_idx])\n",
        "\n",
        "#create optimal Random Forest Classifier object\n",
        "forest = RandomForestClassifier(random_state = 0, n_estimators = 1000, criterion = \"entropy\", max_depth = max_acc_idx + 2)\n",
        "\n",
        "#call fit (to train classification model)\n",
        "forest.fit(train_data_normalized, train_sln)\n",
        "\n",
        "#call predict to generate predictions\n",
        "shoe_predictions = forest.predict(test_data_normalized)\n",
        "\n",
        "print(\" \")\n",
        "#print out a confusion matrix\n",
        "vals = shoe[target].unique() ## possible classification values\n",
        "conf_mat = metrics.confusion_matrix(test_sln, shoe_predictions, labels=vals)\n",
        "print(pd.DataFrame(conf_mat, index = \"True \" + vals, columns = \"Predicted \" + vals))\n",
        "\n",
        "#append Accuracy to overall dataframe\n",
        "total_acc[\"Accuracy\"].iloc[3] = round(for_acc[max_acc_idx], 4)"
      ],
      "metadata": {
        "id": "dqQeAxAaxdjK",
        "colab": {
          "base_uri": "https://localhost:8080/",
          "height": 1000
        },
        "outputId": "46061168-c34c-4977-c493-0c0f16d330b3"
      },
      "execution_count": 65,
      "outputs": [
        {
          "output_type": "stream",
          "name": "stdout",
          "text": [
            "RANDOM FOREST accuracy score:  0.4613583138173302\n",
            "                 Predicted Puma  Predicted Adidas  Predicted Nike  \\\n",
            "True Puma                    64                 3              38   \n",
            "True Adidas                   1                 6              27   \n",
            "True Nike                    30                17             235   \n",
            "True NewBalance              17                 3              25   \n",
            "True Reebok                  12                 0              22   \n",
            "True Skechers                 9                 0              11   \n",
            "True Converse                 2                 0              13   \n",
            "True Vans                    11                 1              20   \n",
            "True Asics                    6                 0              16   \n",
            "True Burberry                 0                 0               1   \n",
            "\n",
            "                 Predicted NewBalance  Predicted Reebok  Predicted Skechers  \\\n",
            "True Puma                          10                 3                   1   \n",
            "True Adidas                         1                 3                   0   \n",
            "True Nike                          12                10                   8   \n",
            "True NewBalance                    11                 3                   0   \n",
            "True Reebok                         2                21                   1   \n",
            "True Skechers                       4                 1                   7   \n",
            "True Converse                       0                 3                   0   \n",
            "True Vans                           0                 1                   3   \n",
            "True Asics                          0                 1                   0   \n",
            "True Burberry                       0                 0                   0   \n",
            "\n",
            "                 Predicted Converse  Predicted Vans  Predicted Asics  \\\n",
            "True Puma                         1              14                2   \n",
            "True Adidas                       3               3                2   \n",
            "True Nike                         5              16               14   \n",
            "True NewBalance                   0              10                5   \n",
            "True Reebok                       2               7                1   \n",
            "True Skechers                     0               2                3   \n",
            "True Converse                     2               8                0   \n",
            "True Vans                         4              43                1   \n",
            "True Asics                        1               1                2   \n",
            "True Burberry                     0               0                0   \n",
            "\n",
            "                 Predicted Burberry  \n",
            "True Puma                         0  \n",
            "True Adidas                       1  \n",
            "True Nike                         2  \n",
            "True NewBalance                   0  \n",
            "True Reebok                       0  \n",
            "True Skechers                     0  \n",
            "True Converse                     0  \n",
            "True Vans                         0  \n",
            "True Asics                        0  \n",
            "True Burberry                     3  \n"
          ]
        },
        {
          "output_type": "display_data",
          "data": {
            "text/plain": [
              "<Figure size 432x288 with 1 Axes>"
            ],
            "image/png": "[encoded data removed]"
          },
          "metadata": {
            "needs_background": "light"
          }
        },
        {
          "output_type": "stream",
          "name": "stdout",
          "text": [
            " \n",
            "optimal accuracy (s =  15 ):  0.4637002341920375\n",
            " \n",
            "                 Predicted Puma  Predicted Adidas  Predicted Nike  \\\n",
            "True Puma                    63                 4              43   \n",
            "True Adidas                   1                 7              28   \n",
            "True Nike                    31                18             242   \n",
            "True NewBalance              18                 4              26   \n",
            "True Reebok                  11                 0              25   \n",
            "True Skechers                 9                 0              12   \n",
            "True Converse                 2                 0              16   \n",
            "True Vans                    12                 1              23   \n",
            "True Asics                    6                 0              16   \n",
            "True Burberry                 0                 0               1   \n",
            "\n",
            "                 Predicted NewBalance  Predicted Reebok  Predicted Skechers  \\\n",
            "True Puma                          10                 2                   0   \n",
            "True Adidas                         1                 3                   0   \n",
            "True Nike                          13                 8                   6   \n",
            "True NewBalance                     9                 4                   0   \n",
            "True Reebok                         1                20                   1   \n",
            "True Skechers                       4                 1                   7   \n",
            "True Converse                       0                 2                   0   \n",
            "True Vans                           0                 1                   2   \n",
            "True Asics                          0                 1                   0   \n",
            "True Burberry                       0                 0                   0   \n",
            "\n",
            "                 Predicted Converse  Predicted Vans  Predicted Asics  \\\n",
            "True Puma                         1              13                0   \n",
            "True Adidas                       1               3                2   \n",
            "True Nike                         3              16               10   \n",
            "True NewBalance                   0               9                4   \n",
            "True Reebok                       2               7                1   \n",
            "True Skechers                     0               2                2   \n",
            "True Converse                     1               7                0   \n",
            "True Vans                         1              43                1   \n",
            "True Asics                        1               1                2   \n",
            "True Burberry                     0               0                0   \n",
            "\n",
            "                 Predicted Burberry  \n",
            "True Puma                         0  \n",
            "True Adidas                       1  \n",
            "True Nike                         2  \n",
            "True NewBalance                   0  \n",
            "True Reebok                       0  \n",
            "True Skechers                     0  \n",
            "True Converse                     0  \n",
            "True Vans                         0  \n",
            "True Asics                        0  \n",
            "True Burberry                     3  \n"
          ]
        },
        {
          "output_type": "stream",
          "name": "stderr",
          "text": [
            "/usr/local/lib/python3.8/dist-packages/pandas/core/indexing.py:1732: SettingWithCopyWarning: \n",
            "A value is trying to be set on a copy of a slice from a DataFrame\n",
            "\n",
            "See the caveats in the documentation: https://pandas.pydata.org/pandas-docs/stable/user_guide/indexing.html#returning-a-view-versus-a-copy\n",
            "  self._setitem_single_block(indexer, value, name)\n"
          ]
        }
      ]
    },
    {
      "cell_type": "code",
      "source": [
        "from sklearn.linear_model import SGDClassifier\n",
        "\n",
        "# now to create a basic SDG Classifier\n",
        "sgd = SGDClassifier(random_state = 0)\n",
        "\n",
        "#call fit (to train classification model)\n",
        "sgd.fit(train_data_normalized, train_sln)\n",
        "\n",
        "#call predict to generate predictions\n",
        "shoes_predictions = sgd.predict(test_data_normalized)\n",
        "\n",
        "#accuracy\n",
        "print(\"SGD baseline accuracy:\", metrics.accuracy_score(test_sln, shoe_predictions))\n",
        "print(\" \")\n",
        "\n",
        "#Now to tune the SGD\n",
        "SGD_acc = []\n",
        "ratio_val = []\n",
        "max_acc_idx = 0\n",
        "for r in range(1,100):\n",
        "\n",
        "  # create SGDClassifier\n",
        "  sgd = SGDClassifier(random_state=0, alpha = (r/1000))\n",
        "\n",
        "  #call fit (to train classification model)\n",
        "  sgd.fit(train_data_normalized,train_sln)\n",
        "\n",
        "  #call predict to generate predictions\n",
        "  shoe_predictions = sgd.predict(test_data_normalized)\n",
        "  \n",
        "  #append accuracy\n",
        "  SGD_acc.append(metrics.accuracy_score(test_sln, shoe_predictions))\n",
        "  ratio_val.append((r/1000))\n",
        "  if (metrics.accuracy_score(test_sln, shoe_predictions) > SGD_acc[max_acc_idx]):\n",
        "    max_acc_idx = r - 1\n",
        "\n",
        "\n",
        "#create cool graphs\n",
        "plt.suptitle('US Shoe data SGD Classifier experiment (Accuracy)',fontsize=16)\n",
        "plt.xlabel('alpha')\n",
        "plt.ylabel('Accuracy')\n",
        "plt.plot(ratio_val,SGD_acc,'bo-',label='k-NN')\n",
        "plt.legend(loc='upper left', shadow=True)\n",
        "plt.axis([0,0.1, 0.35,0.44])\n",
        "plt.show()\n",
        "\n",
        "print(\" \")\n",
        "print(\"optimal accuracy (alpha = \",(max_acc_idx + 1)/1000,\"): \", SGD_acc[max_acc_idx])\n",
        "\n",
        "#create optimal SGD Classifier object\n",
        "sgd = SGDClassifier(random_state=0, alpha = (max_acc_idx + 1)/1000)\n",
        "\n",
        "#call fit (to train classification model)\n",
        "sgd.fit(train_data_normalized, train_sln)\n",
        "\n",
        "#call predict to generate predictions\n",
        "shoe_predictions = sgd.predict(test_data_normalized)\n",
        "\n",
        "print(\" \")\n",
        "#print out a confusion matrix\n",
        "vals = shoe[target].unique() ## possible classification values\n",
        "conf_mat = metrics.confusion_matrix(test_sln, shoe_predictions, labels=vals)\n",
        "print(pd.DataFrame(conf_mat, index = \"True \" + vals, columns = \"Predicted \" + vals))\n",
        "\n",
        "#append Accuracy to overall dataframe\n",
        "total_acc[\"Accuracy\"].iloc[4] = round(SGD_acc[max_acc_idx], 4)"
      ],
      "metadata": {
        "colab": {
          "base_uri": "https://localhost:8080/",
          "height": 1000
        },
        "id": "YWta8sVWuQU-",
        "outputId": "2ebbc9dc-dd54-43ee-9c9a-f22359d9c430"
      },
      "execution_count": 66,
      "outputs": [
        {
          "output_type": "stream",
          "name": "stdout",
          "text": [
            "SGD baseline accuracy: 0.4648711943793911\n",
            " \n"
          ]
        },
        {
          "output_type": "display_data",
          "data": {
            "text/plain": [
              "<Figure size 432x288 with 1 Axes>"
            ],
            "image/png": "[encoded data removed]"
          },
          "metadata": {
            "needs_background": "light"
          }
        },
        {
          "output_type": "stream",
          "name": "stdout",
          "text": [
            " \n",
            "optimal accuracy (alpha =  0.013 ):  0.41920374707259955\n",
            " \n",
            "                 Predicted Puma  Predicted Adidas  Predicted Nike  \\\n",
            "True Puma                    48                 0              87   \n",
            "True Adidas                   6                 0              38   \n",
            "True Nike                    30                 0             309   \n",
            "True NewBalance              12                 0              59   \n",
            "True Reebok                  14                 0              53   \n",
            "True Skechers                 6                 0              30   \n",
            "True Converse                 3                 0              24   \n",
            "True Vans                    32                 0              52   \n",
            "True Asics                    2                 0              25   \n",
            "True Burberry                 0                 0               3   \n",
            "\n",
            "                 Predicted NewBalance  Predicted Reebok  Predicted Skechers  \\\n",
            "True Puma                           0                 0                   0   \n",
            "True Adidas                         0                 0                   0   \n",
            "True Nike                           0                 0                   0   \n",
            "True NewBalance                     0                 0                   0   \n",
            "True Reebok                         0                 0                   0   \n",
            "True Skechers                       0                 0                   0   \n",
            "True Converse                       0                 0                   0   \n",
            "True Vans                           0                 0                   0   \n",
            "True Asics                          0                 0                   0   \n",
            "True Burberry                       0                 0                   0   \n",
            "\n",
            "                 Predicted Converse  Predicted Vans  Predicted Asics  \\\n",
            "True Puma                         0               1                0   \n",
            "True Adidas                       0               3                0   \n",
            "True Nike                         0               9                0   \n",
            "True NewBalance                   0               3                0   \n",
            "True Reebok                       0               1                0   \n",
            "True Skechers                     0               1                0   \n",
            "True Converse                     0               1                0   \n",
            "True Vans                         0               0                0   \n",
            "True Asics                        0               0                0   \n",
            "True Burberry                     0               0                0   \n",
            "\n",
            "                 Predicted Burberry  \n",
            "True Puma                         0  \n",
            "True Adidas                       0  \n",
            "True Nike                         1  \n",
            "True NewBalance                   0  \n",
            "True Reebok                       0  \n",
            "True Skechers                     0  \n",
            "True Converse                     0  \n",
            "True Vans                         0  \n",
            "True Asics                        0  \n",
            "True Burberry                     1  \n"
          ]
        },
        {
          "output_type": "stream",
          "name": "stderr",
          "text": [
            "/usr/local/lib/python3.8/dist-packages/pandas/core/indexing.py:1732: SettingWithCopyWarning: \n",
            "A value is trying to be set on a copy of a slice from a DataFrame\n",
            "\n",
            "See the caveats in the documentation: https://pandas.pydata.org/pandas-docs/stable/user_guide/indexing.html#returning-a-view-versus-a-copy\n",
            "  self._setitem_single_block(indexer, value, name)\n"
          ]
        }
      ]
    },
    {
      "cell_type": "code",
      "source": [
        "#punchline\n",
        "total_acc.sort_values(by = [\"Accuracy\"], ascending = False)"
      ],
      "metadata": {
        "colab": {
          "base_uri": "https://localhost:8080/",
          "height": 206
        },
        "id": "FkF6MDJdEmjf",
        "outputId": "190744b9-b231-42ac-998a-1cfe78a1f237"
      },
      "execution_count": 69,
      "outputs": [
        {
          "output_type": "execute_result",
          "data": {
            "text/plain": [
              "  ML Algorithm  Accuracy\n",
              "1        W KNN    0.4801\n",
              "0          KNN    0.4789\n",
              "3           RF    0.4637\n",
              "2           DT    0.4590\n",
              "4          SGD    0.4192"
            ],
            "text/html": [
              "\n",
              "  <div id=\"df-c4ff9670-17ff-4fce-ac10-f070a166f7a6\">\n",
              "    <div class=\"colab-df-container\">\n",
              "      <div>\n",
              "<style scoped>\n",
              "    .dataframe tbody tr th:only-of-type {\n",
              "        vertical-align: middle;\n",
              "    }\n",
              "\n",
              "    .dataframe tbody tr th {\n",
              "        vertical-align: top;\n",
              "    }\n",
              "\n",
              "    .dataframe thead th {\n",
              "        text-align: right;\n",
              "    }\n",
              "</style>\n",
              "<table border=\"1\" class=\"dataframe\">\n",
              "  <thead>\n",
              "    <tr style=\"text-align: right;\">\n",
              "      <th></th>\n",
              "      <th>ML Algorithm</th>\n",
              "      <th>Accuracy</th>\n",
              "    </tr>\n",
              "  </thead>\n",
              "  <tbody>\n",
              "    <tr>\n",
              "      <th>1</th>\n",
              "      <td>W KNN</td>\n",
              "      <td>0.4801</td>\n",
              "    </tr>\n",
              "    <tr>\n",
              "      <th>0</th>\n",
              "      <td>KNN</td>\n",
              "      <td>0.4789</td>\n",
              "    </tr>\n",
              "    <tr>\n",
              "      <th>3</th>\n",
              "      <td>RF</td>\n",
              "      <td>0.4637</td>\n",
              "    </tr>\n",
              "    <tr>\n",
              "      <th>2</th>\n",
              "      <td>DT</td>\n",
              "      <td>0.4590</td>\n",
              "    </tr>\n",
              "    <tr>\n",
              "      <th>4</th>\n",
              "      <td>SGD</td>\n",
              "      <td>0.4192</td>\n",
              "    </tr>\n",
              "  </tbody>\n",
              "</table>\n",
              "</div>\n",
              "      <button class=\"colab-df-convert\" onclick=\"convertToInteractive('df-c4ff9670-17ff-4fce-ac10-f070a166f7a6')\"\n",
              "              title=\"Convert this dataframe to an interactive table.\"\n",
              "              style=\"display:none;\">\n",
              "        \n",
              "  <svg xmlns=\"http://www.w3.org/2000/svg\" height=\"24px\"viewBox=\"0 0 24 24\"\n",
              "       width=\"24px\">\n",
              "    <path d=\"M0 0h24v24H0V0z\" fill=\"none\"/>\n",
              "    <path d=\"M18.56 5.44l.94 2.06.94-2.06 2.06-.94-2.06-.94-.94-2.06-.94 2.06-2.06.94zm-11 1L8.5 8.5l.94-2.06 2.06-.94-2.06-.94L8.5 2.5l-.94 2.06-2.06.94zm10 10l.94 2.06.94-2.06 2.06-.94-2.06-.94-.94-2.06-.94 2.06-2.06.94z\"/><path d=\"M17.41 7.96l-1.37-1.37c-.4-.4-.92-.59-1.43-.59-.52 0-1.04.2-1.43.59L10.3 9.45l-7.72 7.72c-.78.78-.78 2.05 0 2.83L4 21.41c.39.39.9.59 1.41.59.51 0 1.02-.2 1.41-.59l7.78-7.78 2.81-2.81c.8-.78.8-2.07 0-2.86zM5.41 20L4 18.59l7.72-7.72 1.47 1.35L5.41 20z\"/>\n",
              "  </svg>\n",
              "      </button>\n",
              "      \n",
              "  <style>\n",
              "    .colab-df-container {\n",
              "      display:flex;\n",
              "      flex-wrap:wrap;\n",
              "      gap: 12px;\n",
              "    }\n",
              "\n",
              "    .colab-df-convert {\n",
              "      background-color: #E8F0FE;\n",
              "      border: none;\n",
              "      border-radius: 50%;\n",
              "      cursor: pointer;\n",
              "      display: none;\n",
              "      fill: #1967D2;\n",
              "      height: 32px;\n",
              "      padding: 0 0 0 0;\n",
              "      width: 32px;\n",
              "    }\n",
              "\n",
              "    .colab-df-convert:hover {\n",
              "      background-color: #E2EBFA;\n",
              "      box-shadow: 0px 1px 2px rgba(60, 64, 67, 0.3), 0px 1px 3px 1px rgba(60, 64, 67, 0.15);\n",
              "      fill: #174EA6;\n",
              "    }\n",
              "\n",
              "    [theme=dark] .colab-df-convert {\n",
              "      background-color: #3B4455;\n",
              "      fill: #D2E3FC;\n",
              "    }\n",
              "\n",
              "    [theme=dark] .colab-df-convert:hover {\n",
              "      background-color: #434B5C;\n",
              "      box-shadow: 0px 1px 3px 1px rgba(0, 0, 0, 0.15);\n",
              "      filter: drop-shadow(0px 1px 2px rgba(0, 0, 0, 0.3));\n",
              "      fill: #FFFFFF;\n",
              "    }\n",
              "  </style>\n",
              "\n",
              "      <script>\n",
              "        const buttonEl =\n",
              "          document.querySelector('#df-c4ff9670-17ff-4fce-ac10-f070a166f7a6 button.colab-df-convert');\n",
              "        buttonEl.style.display =\n",
              "          google.colab.kernel.accessAllowed ? 'block' : 'none';\n",
              "\n",
              "        async function convertToInteractive(key) {\n",
              "          const element = document.querySelector('#df-c4ff9670-17ff-4fce-ac10-f070a166f7a6');\n",
              "          const dataTable =\n",
              "            await google.colab.kernel.invokeFunction('convertToInteractive',\n",
              "                                                     [key], {});\n",
              "          if (!dataTable) return;\n",
              "\n",
              "          const docLinkHtml = 'Like what you see? Visit the ' +\n",
              "            '<a target=\"_blank\" href=https://colab.research.google.com/notebooks/data_table.ipynb>data table notebook</a>'\n",
              "            + ' to learn more about interactive tables.';\n",
              "          element.innerHTML = '';\n",
              "          dataTable['output_type'] = 'display_data';\n",
              "          await google.colab.output.renderOutput(dataTable, element);\n",
              "          const docLink = document.createElement('div');\n",
              "          docLink.innerHTML = docLinkHtml;\n",
              "          element.appendChild(docLink);\n",
              "        }\n",
              "      </script>\n",
              "    </div>\n",
              "  </div>\n",
              "  "
            ]
          },
          "metadata": {},
          "execution_count": 69
        }
      ]
    },
    {
      "cell_type": "markdown",
      "source": [
        "#4. Analysis\n",
        "\n",
        "What did you discover? What insights/recommendations do you have? What did you find that was interesting? Which model was your best model, which models didn't work well? Why do you think this is? In general, I want a discussion of your experiment, the results, and what they mean."
      ],
      "metadata": {
        "id": "2Qu9bYPLmiv_"
      }
    },
    {
      "cell_type": "markdown",
      "source": [
        "To begin, I didn't expect a very accuracte model. I mean, I'm asking based on just a few features for the model to classify between 10 DIFFERENT shoe brands. The fact that the model came close to the chances of winning a coin toss is pretty impressive. So let's give credit where credit is due. Numbers aren't everything.\n",
        "\n",
        "Weighted KNN came in with the highest accuracy and honestly that doesn't surprise me. Again, we're trying to classify 10 different shoe brands. So, making an educated guess based on \"nearness\" doesn't seem super far fetched. The rest of the algorithms land where I would expect them to. Nothing super notable. I will give an honorable mention to SGD, though. I think SGD is my favorite ML algorithm, but here it didn't perform well. Why? Well I think it's because there is a large margin for error because of the 10 different shoe brands. At the end of the day, I'm satisfied with the way these ML algorithms did in the face of a tough problem.\n",
        "\n",
        "Analysis wouldn't be analysis without SOME comment on the data. 4 features? That's all? I know. It's kind of disappointing to me too. The dataset looked promising, but as I continued to clean, the number of features slowly decreased. Honestly, I'm happy we had 4, because if I ended up with any less, I likely would have had to find a new dataset, which is not ideal when you're completing a project the day it's due. Anyways, the 4 features were okay. Lowest price, Highest price, Condition, and Availability. They're not terrible, but it doesn't give us a whole lot to work with in terms trying to classify a shoe brand. Some other variables that might be helpful with further analysis would be color scheme, size, weight, shoelace type, the manufacturering company's country to name a few. But hey, 48% with what we had. Not bad, I'd say.\n",
        "\n"
      ],
      "metadata": {
        "id": "k17sKBZUmqIH"
      }
    },
    {
      "cell_type": "markdown",
      "source": [
        "# 5. Bumps in the Road\n",
        "What challenges did you encounter? How did you overcome these challenges?"
      ],
      "metadata": {
        "id": "TemAuKxlm6dQ"
      }
    },
    {
      "cell_type": "markdown",
      "source": [
        "I think my biggest challenge was cleaning the data. When I first found the dataset, I was happy with it because it looked like it contained alot of features that I could use, but once I got into it, there weren't many features that were actually useful. At the end of the day, I was left with the 4 features that I used for the above analysis, and they didn't do too terrible. I was content with what I had. Other than that, I didn't encounter anything super crazy. It was smooth sailing."
      ],
      "metadata": {
        "id": "zXEVEG9FnHgQ"
      }
    }
  ]
}
